{
 "cells": [
  {
   "cell_type": "code",
   "execution_count": 1,
   "metadata": {},
   "outputs": [],
   "source": [
    "%load_ext autoreload\n",
    "%autoreload 2"
   ]
  },
  {
   "cell_type": "code",
   "execution_count": 2,
   "metadata": {},
   "outputs": [],
   "source": [
    "from instructions import *\n",
    "\n",
    "dataset_name = 'Demo'\n",
    "model_nickname = 'llama2-7b'\n",
    "classifier_type = 'safety'\n",
    "\n",
    "insts = load_instructions_by_size(\n",
    "    dataset_name=dataset_name,\n",
    "    label_list=[\"Malicious\", \"Safe\"],\n",
    "    train_size=0.1,\n",
    ")"
   ]
  },
  {
   "cell_type": "code",
   "execution_count": null,
   "metadata": {},
   "outputs": [],
   "source": [
    "from model_extraction import ModelExtraction\n",
    "\n",
    "llm = ModelExtraction(model_nickname)\n",
    "\n",
    "pos_train_embds = llm.extract_embds(insts['train'][0])\n",
    "neg_train_embds = llm.extract_embds(insts['train'][1])\n",
    "pos_test_embds = llm.extract_embds(insts['test'][0])\n",
    "neg_test_embds = llm.extract_embds(insts['test'][1])"
   ]
  },
  {
   "cell_type": "code",
   "execution_count": null,
   "metadata": {},
   "outputs": [],
   "source": [
    "from reduction import Reduction\n",
    "import matplotlib.pyplot as plt\n",
    "import torch\n",
    "\n",
    "c, r = 4, 8\n",
    "fig, axs = plt.subplots(c, r, figsize=(r*5, c*5))\n",
    "for i in range(c):\n",
    "    for j in range(r):\n",
    "        layer = i*4+j\n",
    "        pca = Reduction(2)\n",
    "\n",
    "        train_data = torch.vstack([pos_train_embds.layers[layer], neg_train_embds.layers[layer]])\n",
    "        pca.fit(train_data)\n",
    "\n",
    "        test_data = torch.vstack([pos_test_embds.layers[layer], neg_test_embds.layers[layer]])\n",
    "\n",
    "        pos_train_pca = pca.transform(pos_train_embds.layers[layer])\n",
    "        neg_train_pca = pca.transform(neg_train_embds.layers[layer])\n",
    "        pos_test_pca = pca.transform(pos_test_embds.layers[layer])\n",
    "        neg_test_pca = pca.transform(neg_test_embds.layers[layer])\n",
    "\n",
    "        ax = axs[i, j]\n",
    "\n",
    "        ax.scatter(pos_train_pca[:, 0], pos_train_pca[:, 1], c='red', label='malicious_train', alpha=0.3)\n",
    "        ax.scatter(neg_train_pca[:, 0], neg_train_pca[:, 1], c='blue', label='safe_train', alpha=0.3)\n",
    "        ax.scatter(pos_test_pca[:, 0], pos_test_pca[:, 1], c='orange', label='malicious_test', alpha=0.3)\n",
    "        ax.scatter(neg_test_pca[:, 0], neg_test_pca[:, 1], c='green', label='safe_test', alpha=0.3)\n",
    "\n",
    "        ax.set_title(f'Layer {layer}')\n",
    "        ax.legend()\n",
    "\n",
    "plt.show()"
   ]
  }
 ],
 "metadata": {
  "kernelspec": {
   "display_name": "Python 3 (ipykernel)",
   "language": "python",
   "name": "python3"
  },
  "language_info": {
   "codemirror_mode": {
    "name": "ipython",
    "version": 3
   },
   "file_extension": ".py",
   "mimetype": "text/x-python",
   "name": "python",
   "nbconvert_exporter": "python",
   "pygments_lexer": "ipython3",
   "version": "3.11.5"
  }
 },
 "nbformat": 4,
 "nbformat_minor": 2
}
